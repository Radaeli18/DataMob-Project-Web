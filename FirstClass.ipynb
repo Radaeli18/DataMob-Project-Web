{
  "nbformat": 4,
  "nbformat_minor": 0,
  "metadata": {
    "colab": {
      "provenance": [],
      "toc_visible": true,
      "authorship_tag": "ABX9TyMjN/2wbYaXuagy9RyVoCnM",
      "include_colab_link": true
    },
    "kernelspec": {
      "name": "python3",
      "display_name": "Python 3"
    },
    "language_info": {
      "name": "python"
    }
  },
  "cells": [
    {
      "cell_type": "markdown",
      "metadata": {
        "id": "view-in-github",
        "colab_type": "text"
      },
      "source": [
        "<a href=\"https://colab.research.google.com/github/Radaeli18/DataMob-Project-Web/blob/main/FirstClass.ipynb\" target=\"_parent\"><img src=\"https://colab.research.google.com/assets/colab-badge.svg\" alt=\"Open In Colab\"/></a>"
      ]
    },
    {
      "cell_type": "code",
      "execution_count": null,
      "metadata": {
        "id": "4N9S2_RGbBxp"
      },
      "outputs": [],
      "source": []
    },
    {
      "cell_type": "markdown",
      "source": [
        "# Criando as classes\n"
      ],
      "metadata": {
        "id": "XV2sMx_Pbo3q"
      }
    },
    {
      "cell_type": "code",
      "source": [
        "from numpy import *\n",
        "class LinearRegression():\n",
        "    def __init__(self, x, y) :\n",
        "      self.x = x\n",
        "      self.y = y\n",
        "      self.__correlation_coefficient = self.__correlacao()\n",
        "      self.__inclination_coefficient = self.__inclinacao()\n",
        "      self.__intercept_coefficient = self.__interceptacao()\n",
        "\n",
        "    def __correlacao(self):\n",
        "      covariacao =cov(self.x, self.y, bias = True) [0][1]\n",
        "      variancia_x = var(self.x)\n",
        "      variancia_y = var(self.y)\n",
        "      return covariacao / sqrt(variancia_x*variancia_y)\n",
        "\n",
        "    def __inclinacao(self):\n",
        "      stdx = std(self.x)\n",
        "      stdy = std(self.y)\n",
        "      return self.__correlation_coefficient * (stdy / stdx)\n",
        "\n",
        "    def __interceptacao (self):\n",
        "      mediax = mean(self.x)\n",
        "      mediay = mean(self.y)\n",
        "      return mediay - mediax * self.__inclination_coefficient\n",
        "\n",
        "    def previsao(self, valor):\n",
        "      return self.__intercept_coefficient + (self.__inclination_coefficient * valor)\n",
        ""
      ],
      "metadata": {
        "id": "-Zxx_0YleZ9h"
      },
      "execution_count": 22,
      "outputs": []
    },
    {
      "cell_type": "markdown",
      "source": [
        "# Criando os métodos\n"
      ],
      "metadata": {
        "id": "JgD-IJRBdKdy"
      }
    },
    {
      "cell_type": "markdown",
      "source": [
        "*texto em itálico*# Nova seção"
      ],
      "metadata": {
        "id": "m0klh_e1eimj"
      }
    },
    {
      "cell_type": "markdown",
      "source": [
        "# Realizando previsões\n"
      ],
      "metadata": {
        "id": "dN2vJyVofSuV"
      }
    },
    {
      "cell_type": "code",
      "source": [
        "x = array([1,2,3,4,5])\n",
        "y = array([2,4,6,8,10])\n",
        "\n",
        "lr = LinearRegression(x,y)\n",
        "previsao = lr.previsao(6)\n",
        "print(previsao)"
      ],
      "metadata": {
        "colab": {
          "base_uri": "https://localhost:8080/"
        },
        "id": "NIICt-S_fV3D",
        "outputId": "9ce6e515-0a45-41c8-b5a7-b4f72967afe4"
      },
      "execution_count": 23,
      "outputs": [
        {
          "output_type": "stream",
          "name": "stdout",
          "text": [
            "12.0\n"
          ]
        }
      ]
    },
    {
      "cell_type": "code",
      "source": [],
      "metadata": {
        "id": "5_DoUlM9g-b1"
      },
      "execution_count": null,
      "outputs": []
    }
  ]
}